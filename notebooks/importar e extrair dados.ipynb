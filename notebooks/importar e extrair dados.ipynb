{
 "cells": [
  {
   "cell_type": "markdown",
   "metadata": {},
   "source": [
    "# Para os arquivos estabelecimentos"
   ]
  },
  {
   "cell_type": "code",
   "execution_count": 6,
   "metadata": {
    "scrolled": true
   },
   "outputs": [
    {
     "name": "stdout",
     "output_type": "stream",
     "text": [
      "hello world\n",
      "iniciando o download do endereco: http://200.152.38.155/CNPJ/K3241.K03200Y0.D20312.ESTABELE.zip\n",
      "finalizado o download do endereco: http://200.152.38.155/CNPJ/K3241.K03200Y0.D20312.ESTABELE.zip\n",
      "iniciando o download do endereco: http://200.152.38.155/CNPJ/K3241.K03200Y1.D20312.ESTABELE.zip\n",
      "finalizado o download do endereco: http://200.152.38.155/CNPJ/K3241.K03200Y1.D20312.ESTABELE.zip\n",
      "iniciando o download do endereco: http://200.152.38.155/CNPJ/K3241.K03200Y2.D20312.ESTABELE.zip\n",
      "finalizado o download do endereco: http://200.152.38.155/CNPJ/K3241.K03200Y2.D20312.ESTABELE.zip\n",
      "iniciando o download do endereco: http://200.152.38.155/CNPJ/K3241.K03200Y3.D20312.ESTABELE.zip\n",
      "finalizado o download do endereco: http://200.152.38.155/CNPJ/K3241.K03200Y3.D20312.ESTABELE.zip\n",
      "iniciando o download do endereco: http://200.152.38.155/CNPJ/K3241.K03200Y4.D20312.ESTABELE.zip\n",
      "finalizado o download do endereco: http://200.152.38.155/CNPJ/K3241.K03200Y4.D20312.ESTABELE.zip\n",
      "iniciando o download do endereco: http://200.152.38.155/CNPJ/K3241.K03200Y5.D20312.ESTABELE.zip\n",
      "finalizado o download do endereco: http://200.152.38.155/CNPJ/K3241.K03200Y5.D20312.ESTABELE.zip\n",
      "iniciando o download do endereco: http://200.152.38.155/CNPJ/K3241.K03200Y6.D20312.ESTABELE.zip\n",
      "finalizado o download do endereco: http://200.152.38.155/CNPJ/K3241.K03200Y6.D20312.ESTABELE.zip\n",
      "iniciando o download do endereco: http://200.152.38.155/CNPJ/K3241.K03200Y7.D20312.ESTABELE.zip\n",
      "finalizado o download do endereco: http://200.152.38.155/CNPJ/K3241.K03200Y7.D20312.ESTABELE.zip\n",
      "iniciando o download do endereco: http://200.152.38.155/CNPJ/K3241.K03200Y8.D20312.ESTABELE.zip\n",
      "finalizado o download do endereco: http://200.152.38.155/CNPJ/K3241.K03200Y8.D20312.ESTABELE.zip\n",
      "iniciando o download do endereco: http://200.152.38.155/CNPJ/K3241.K03200Y9.D20312.ESTABELE.zip\n",
      "finalizado o download do endereco: http://200.152.38.155/CNPJ/K3241.K03200Y9.D20312.ESTABELE.zip\n"
     ]
    }
   ],
   "source": [
    "\n",
    "print('hello world')\n",
    "\n",
    "import urllib.request\n",
    "\n",
    "x ='http://200.152.38.155/CNPJ/K3241.K03200Y'       #mudar este endereco nas próximas\n",
    "y='.D20312.ESTABELE.zip'\n",
    "c=r'C:\\Users\\nasse\\Documents\\dados receita\\Base_Estabelecimentos\\estab'\n",
    "\n",
    "\n",
    "for i in range(10):\n",
    "    url=x+str(i)+y\n",
    "    print('iniciando o download do endereco: {}'.format(url))\n",
    "    nome=c+str(i)+'.zip'\n",
    "    urllib.request.urlretrieve(url, nome)   #descomentar para rodar\n",
    "    print('finalizado o download do endereco: {}'.format(url))"
   ]
  },
  {
   "cell_type": "markdown",
   "metadata": {},
   "source": [
    "## Extraindo os arquivos"
   ]
  },
  {
   "cell_type": "code",
   "execution_count": 12,
   "metadata": {},
   "outputs": [
    {
     "name": "stdout",
     "output_type": "stream",
     "text": [
      "extraindo arquivo C:\\Users\\nasse\\Documents\\dados receita\\Base_Estabelecimentos\\estab0.zip\n",
      "C:\\Users\\nasse\\Documents\\dados receita\\Base_Estabelecimentos\\estab0\n",
      "extraindo arquivo C:\\Users\\nasse\\Documents\\dados receita\\Base_Estabelecimentos\\estab1.zip\n",
      "C:\\Users\\nasse\\Documents\\dados receita\\Base_Estabelecimentos\\estab1\n",
      "extraindo arquivo C:\\Users\\nasse\\Documents\\dados receita\\Base_Estabelecimentos\\estab2.zip\n",
      "C:\\Users\\nasse\\Documents\\dados receita\\Base_Estabelecimentos\\estab2\n",
      "extraindo arquivo C:\\Users\\nasse\\Documents\\dados receita\\Base_Estabelecimentos\\estab3.zip\n",
      "C:\\Users\\nasse\\Documents\\dados receita\\Base_Estabelecimentos\\estab3\n",
      "extraindo arquivo C:\\Users\\nasse\\Documents\\dados receita\\Base_Estabelecimentos\\estab4.zip\n",
      "C:\\Users\\nasse\\Documents\\dados receita\\Base_Estabelecimentos\\estab4\n",
      "extraindo arquivo C:\\Users\\nasse\\Documents\\dados receita\\Base_Estabelecimentos\\estab5.zip\n",
      "C:\\Users\\nasse\\Documents\\dados receita\\Base_Estabelecimentos\\estab5\n",
      "extraindo arquivo C:\\Users\\nasse\\Documents\\dados receita\\Base_Estabelecimentos\\estab6.zip\n",
      "C:\\Users\\nasse\\Documents\\dados receita\\Base_Estabelecimentos\\estab6\n",
      "extraindo arquivo C:\\Users\\nasse\\Documents\\dados receita\\Base_Estabelecimentos\\estab7.zip\n",
      "C:\\Users\\nasse\\Documents\\dados receita\\Base_Estabelecimentos\\estab7\n",
      "extraindo arquivo C:\\Users\\nasse\\Documents\\dados receita\\Base_Estabelecimentos\\estab8.zip\n",
      "C:\\Users\\nasse\\Documents\\dados receita\\Base_Estabelecimentos\\estab8\n",
      "extraindo arquivo C:\\Users\\nasse\\Documents\\dados receita\\Base_Estabelecimentos\\estab9.zip\n",
      "C:\\Users\\nasse\\Documents\\dados receita\\Base_Estabelecimentos\\estab9\n"
     ]
    }
   ],
   "source": [
    "import shutil\n",
    "\n",
    "#quebrando os nomes para depois juntar \n",
    "file1=r'C:\\Users\\nasse\\Documents\\dados receita\\Base_Estabelecimentos\\estab'\n",
    "file2=r'.zip'\n",
    "\n",
    "#caminnho do diretorio\n",
    "dire0=r'C:\\Users\\nasse\\Documents\\dados receita\\Base_Estabelecimentos\\estab'\n",
    "\n",
    "for i in range(10):\n",
    "    file=file1+str(i)+file2\n",
    "    dire=dire0+str(i)\n",
    "    print('extraindo arquivo {}'.format(file))\n",
    "    print(dire)\n",
    "    shutil.unpack_archive(file,dire)"
   ]
  },
  {
   "cell_type": "code",
   "execution_count": null,
   "metadata": {},
   "outputs": [],
   "source": [
    "x ='http://200.152.38.155/CNPJ/K3241.K03200Y'       #mudar este endereco nas próximas\n",
    "y='.D20312.ESTABELE.zip'\n",
    "c=r'C:\\Users\\nasse\\Documents\\dados receita\\Base_Estabelecimentos\\estab'\n",
    "\n",
    "\n",
    "for i in range(10):\n",
    "    file=file1+str(i)+file2\n",
    "    print('iniciando o download do endereco: {}'.format(url))\n",
    "    nome=c+str(i)+'.zip'"
   ]
  },
  {
   "cell_type": "markdown",
   "metadata": {},
   "source": [
    "## Renomeando os arquivos"
   ]
  },
  {
   "cell_type": "markdown",
   "metadata": {},
   "source": [
    "#para renomear diretorios\n",
    "import os\n",
    "os.chdir(r\"C:/Users/HP/OneDrive/Desktop/\")\n",
    " \n",
    "os.rename(\"Programming\",\"PRACTICE\")\n",
    " \n",
    "print(\"The Directory has been successfully renamed!\")"
   ]
  },
  {
   "cell_type": "code",
   "execution_count": 15,
   "metadata": {},
   "outputs": [
    {
     "data": {
      "text/plain": [
       "'K3241.K03200Y0.D20312.ESTABELE'"
      ]
     },
     "execution_count": 15,
     "metadata": {},
     "output_type": "execute_result"
    }
   ],
   "source": [
    "import os\n",
    "os.listdir(r'C:\\Users\\nasse\\Documents\\dados receita\\Base_Estabelecimentos\\estab0')[0]"
   ]
  },
  {
   "cell_type": "code",
   "execution_count": 24,
   "metadata": {},
   "outputs": [
    {
     "name": "stdout",
     "output_type": "stream",
     "text": [
      "0\n",
      "C:\\Users\\nasse\\Documents\\dados receita\\Base_Estabelecimentos\\estab0\n",
      "K3241.K03200Y0.D20312.ESTABELE\n",
      "C:\\Users\\nasse\\Documents\\dados receita\\Base_Estabelecimentos\\estab0\\K3241.K03200Y0.D20312.ESTABELE\n",
      "C:\\Users\\nasse\\Documents\\dados receita\\Base_Estabelecimentos\\estab0\\estab0.csv\n",
      "1\n",
      "C:\\Users\\nasse\\Documents\\dados receita\\Base_Estabelecimentos\\estab1\n",
      "K3241.K03200Y1.D20312.ESTABELE\n",
      "C:\\Users\\nasse\\Documents\\dados receita\\Base_Estabelecimentos\\estab1\\K3241.K03200Y1.D20312.ESTABELE\n",
      "C:\\Users\\nasse\\Documents\\dados receita\\Base_Estabelecimentos\\estab1\\estab1.csv\n",
      "2\n",
      "C:\\Users\\nasse\\Documents\\dados receita\\Base_Estabelecimentos\\estab2\n",
      "K3241.K03200Y2.D20312.ESTABELE\n",
      "C:\\Users\\nasse\\Documents\\dados receita\\Base_Estabelecimentos\\estab2\\K3241.K03200Y2.D20312.ESTABELE\n",
      "C:\\Users\\nasse\\Documents\\dados receita\\Base_Estabelecimentos\\estab2\\estab2.csv\n",
      "3\n",
      "C:\\Users\\nasse\\Documents\\dados receita\\Base_Estabelecimentos\\estab3\n",
      "K3241.K03200Y3.D20312.ESTABELE\n",
      "C:\\Users\\nasse\\Documents\\dados receita\\Base_Estabelecimentos\\estab3\\K3241.K03200Y3.D20312.ESTABELE\n",
      "C:\\Users\\nasse\\Documents\\dados receita\\Base_Estabelecimentos\\estab3\\estab3.csv\n",
      "4\n",
      "C:\\Users\\nasse\\Documents\\dados receita\\Base_Estabelecimentos\\estab4\n",
      "K3241.K03200Y4.D20312.ESTABELE\n",
      "C:\\Users\\nasse\\Documents\\dados receita\\Base_Estabelecimentos\\estab4\\K3241.K03200Y4.D20312.ESTABELE\n",
      "C:\\Users\\nasse\\Documents\\dados receita\\Base_Estabelecimentos\\estab4\\estab4.csv\n",
      "5\n",
      "C:\\Users\\nasse\\Documents\\dados receita\\Base_Estabelecimentos\\estab5\n",
      "K3241.K03200Y5.D20312.ESTABELE\n",
      "C:\\Users\\nasse\\Documents\\dados receita\\Base_Estabelecimentos\\estab5\\K3241.K03200Y5.D20312.ESTABELE\n",
      "C:\\Users\\nasse\\Documents\\dados receita\\Base_Estabelecimentos\\estab5\\estab5.csv\n",
      "6\n",
      "C:\\Users\\nasse\\Documents\\dados receita\\Base_Estabelecimentos\\estab6\n",
      "K3241.K03200Y6.D20312.ESTABELE\n",
      "C:\\Users\\nasse\\Documents\\dados receita\\Base_Estabelecimentos\\estab6\\K3241.K03200Y6.D20312.ESTABELE\n",
      "C:\\Users\\nasse\\Documents\\dados receita\\Base_Estabelecimentos\\estab6\\estab6.csv\n",
      "7\n",
      "C:\\Users\\nasse\\Documents\\dados receita\\Base_Estabelecimentos\\estab7\n",
      "K3241.K03200Y7.D20312.ESTABELE\n",
      "C:\\Users\\nasse\\Documents\\dados receita\\Base_Estabelecimentos\\estab7\\K3241.K03200Y7.D20312.ESTABELE\n",
      "C:\\Users\\nasse\\Documents\\dados receita\\Base_Estabelecimentos\\estab7\\estab7.csv\n",
      "8\n",
      "C:\\Users\\nasse\\Documents\\dados receita\\Base_Estabelecimentos\\estab8\n",
      "K3241.K03200Y8.D20312.ESTABELE\n",
      "C:\\Users\\nasse\\Documents\\dados receita\\Base_Estabelecimentos\\estab8\\K3241.K03200Y8.D20312.ESTABELE\n",
      "C:\\Users\\nasse\\Documents\\dados receita\\Base_Estabelecimentos\\estab8\\estab8.csv\n",
      "9\n",
      "C:\\Users\\nasse\\Documents\\dados receita\\Base_Estabelecimentos\\estab9\n",
      "K3241.K03200Y9.D20312.ESTABELE\n",
      "C:\\Users\\nasse\\Documents\\dados receita\\Base_Estabelecimentos\\estab9\\K3241.K03200Y9.D20312.ESTABELE\n",
      "C:\\Users\\nasse\\Documents\\dados receita\\Base_Estabelecimentos\\estab9\\estab9.csv\n"
     ]
    }
   ],
   "source": [
    "#para renomear arquivos\n",
    "import os\n",
    "\n",
    "#caminnho dos diretorios\n",
    "dire0=r'C:\\Users\\nasse\\Documents\\dados receita\\Base_Estabelecimentos\\estab'\n",
    "\n",
    "for i in range(10):\n",
    "    print(i)\n",
    "    diretorio=dire0+str(i)\n",
    "    print(diretorio)\n",
    "    nome_arquivo=os.listdir(diretorio)[0]\n",
    "    print(nome_arquivo)\n",
    "    arquivo_antes=str(diretorio)+str('\\\\')+nome_arquivo\n",
    "    print(arquivo_antes)\n",
    "    arquivo_depois=diretorio+str('\\\\')+'estab'+str(i)+'.csv'\n",
    "    print(arquivo_depois)\n",
    "    os.rename(arquivo_antes,arquivo_depois)\n",
    " \n"
   ]
  },
  {
   "cell_type": "markdown",
   "metadata": {},
   "source": [
    "# Para os arquivos empresas"
   ]
  },
  {
   "cell_type": "code",
   "execution_count": 2,
   "metadata": {},
   "outputs": [
    {
     "name": "stdout",
     "output_type": "stream",
     "text": [
      "hello world\n",
      "iniciando o download do endereco: http://200.152.38.155/CNPJ/K3241.K03200Y0.D20312.EMPRECSV.zip\n",
      "finalizado o download do endereco: http://200.152.38.155/CNPJ/K3241.K03200Y0.D20312.EMPRECSV.zip\n",
      "iniciando o download do endereco: http://200.152.38.155/CNPJ/K3241.K03200Y1.D20312.EMPRECSV.zip\n",
      "finalizado o download do endereco: http://200.152.38.155/CNPJ/K3241.K03200Y1.D20312.EMPRECSV.zip\n",
      "iniciando o download do endereco: http://200.152.38.155/CNPJ/K3241.K03200Y2.D20312.EMPRECSV.zip\n",
      "finalizado o download do endereco: http://200.152.38.155/CNPJ/K3241.K03200Y2.D20312.EMPRECSV.zip\n",
      "iniciando o download do endereco: http://200.152.38.155/CNPJ/K3241.K03200Y3.D20312.EMPRECSV.zip\n",
      "finalizado o download do endereco: http://200.152.38.155/CNPJ/K3241.K03200Y3.D20312.EMPRECSV.zip\n",
      "iniciando o download do endereco: http://200.152.38.155/CNPJ/K3241.K03200Y4.D20312.EMPRECSV.zip\n",
      "finalizado o download do endereco: http://200.152.38.155/CNPJ/K3241.K03200Y4.D20312.EMPRECSV.zip\n",
      "iniciando o download do endereco: http://200.152.38.155/CNPJ/K3241.K03200Y5.D20312.EMPRECSV.zip\n",
      "finalizado o download do endereco: http://200.152.38.155/CNPJ/K3241.K03200Y5.D20312.EMPRECSV.zip\n",
      "iniciando o download do endereco: http://200.152.38.155/CNPJ/K3241.K03200Y6.D20312.EMPRECSV.zip\n",
      "finalizado o download do endereco: http://200.152.38.155/CNPJ/K3241.K03200Y6.D20312.EMPRECSV.zip\n",
      "iniciando o download do endereco: http://200.152.38.155/CNPJ/K3241.K03200Y7.D20312.EMPRECSV.zip\n",
      "finalizado o download do endereco: http://200.152.38.155/CNPJ/K3241.K03200Y7.D20312.EMPRECSV.zip\n",
      "iniciando o download do endereco: http://200.152.38.155/CNPJ/K3241.K03200Y8.D20312.EMPRECSV.zip\n",
      "finalizado o download do endereco: http://200.152.38.155/CNPJ/K3241.K03200Y8.D20312.EMPRECSV.zip\n",
      "iniciando o download do endereco: http://200.152.38.155/CNPJ/K3241.K03200Y9.D20312.EMPRECSV.zip\n",
      "finalizado o download do endereco: http://200.152.38.155/CNPJ/K3241.K03200Y9.D20312.EMPRECSV.zip\n"
     ]
    }
   ],
   "source": [
    "\n",
    "print('hello world')\n",
    "\n",
    "import urllib.request\n",
    "\n",
    "x ='http://200.152.38.155/CNPJ/K3241.K03200Y'       #mudar este endereco nas próximas\n",
    "y='.D20312.EMPRECSV.zip'\n",
    "c=r'C:\\Users\\nasse\\Documents\\dados receita\\Base_empresas\\emp'\n",
    "\n",
    "\n",
    "for i in range(10):\n",
    "    url=x+str(i)+y\n",
    "    print('iniciando o download do endereco: {}'.format(url))\n",
    "    nome=c+str(i)+'.zip'\n",
    "    urllib.request.urlretrieve(url, nome)       #descomentar para baixar\n",
    "    print('finalizado o download do endereco: {}'.format(url))"
   ]
  },
  {
   "cell_type": "code",
   "execution_count": 5,
   "metadata": {},
   "outputs": [
    {
     "name": "stdout",
     "output_type": "stream",
     "text": [
      "extraindo arquivo C:\\Users\\nasse\\Documents\\dados receita\\Base_empresas\\emp0.zip\n",
      "C:\\Users\\nasse\\Documents\\dados receita\\Base_empresas\\emp0\n",
      "extraindo arquivo C:\\Users\\nasse\\Documents\\dados receita\\Base_empresas\\emp1.zip\n",
      "C:\\Users\\nasse\\Documents\\dados receita\\Base_empresas\\emp1\n",
      "extraindo arquivo C:\\Users\\nasse\\Documents\\dados receita\\Base_empresas\\emp2.zip\n",
      "C:\\Users\\nasse\\Documents\\dados receita\\Base_empresas\\emp2\n",
      "extraindo arquivo C:\\Users\\nasse\\Documents\\dados receita\\Base_empresas\\emp3.zip\n",
      "C:\\Users\\nasse\\Documents\\dados receita\\Base_empresas\\emp3\n",
      "extraindo arquivo C:\\Users\\nasse\\Documents\\dados receita\\Base_empresas\\emp4.zip\n",
      "C:\\Users\\nasse\\Documents\\dados receita\\Base_empresas\\emp4\n",
      "extraindo arquivo C:\\Users\\nasse\\Documents\\dados receita\\Base_empresas\\emp5.zip\n",
      "C:\\Users\\nasse\\Documents\\dados receita\\Base_empresas\\emp5\n",
      "extraindo arquivo C:\\Users\\nasse\\Documents\\dados receita\\Base_empresas\\emp6.zip\n",
      "C:\\Users\\nasse\\Documents\\dados receita\\Base_empresas\\emp6\n",
      "extraindo arquivo C:\\Users\\nasse\\Documents\\dados receita\\Base_empresas\\emp7.zip\n",
      "C:\\Users\\nasse\\Documents\\dados receita\\Base_empresas\\emp7\n",
      "extraindo arquivo C:\\Users\\nasse\\Documents\\dados receita\\Base_empresas\\emp8.zip\n",
      "C:\\Users\\nasse\\Documents\\dados receita\\Base_empresas\\emp8\n",
      "extraindo arquivo C:\\Users\\nasse\\Documents\\dados receita\\Base_empresas\\emp9.zip\n",
      "C:\\Users\\nasse\\Documents\\dados receita\\Base_empresas\\emp9\n"
     ]
    }
   ],
   "source": [
    "import shutil\n",
    "\n",
    "#quebrando os nomes para depois juntar \n",
    "file1=r'C:\\Users\\nasse\\Documents\\dados receita\\Base_empresas\\emp'\n",
    "file2=r'.zip'\n",
    "\n",
    "#caminnho do diretorio\n",
    "dire0=r'C:\\Users\\nasse\\Documents\\dados receita\\Base_empresas\\emp'\n",
    "\n",
    "for i in range(10):\n",
    "    file=file1+str(i)+file2\n",
    "    dire=dire0+str(i)\n",
    "    print('extraindo arquivo {}'.format(file))\n",
    "    print(dire)\n",
    "    shutil.unpack_archive(file,dire)"
   ]
  },
  {
   "cell_type": "code",
   "execution_count": 6,
   "metadata": {},
   "outputs": [
    {
     "name": "stdout",
     "output_type": "stream",
     "text": [
      "0\n",
      "C:\\Users\\nasse\\Documents\\dados receita\\Base_empresas\\emp0\n",
      "K3241.K03200Y0.D20312.EMPRECSV\n",
      "C:\\Users\\nasse\\Documents\\dados receita\\Base_empresas\\emp0\\K3241.K03200Y0.D20312.EMPRECSV\n",
      "C:\\Users\\nasse\\Documents\\dados receita\\Base_empresas\\emp0\\emp0.csv\n",
      "1\n",
      "C:\\Users\\nasse\\Documents\\dados receita\\Base_empresas\\emp1\n",
      "K3241.K03200Y1.D20312.EMPRECSV\n",
      "C:\\Users\\nasse\\Documents\\dados receita\\Base_empresas\\emp1\\K3241.K03200Y1.D20312.EMPRECSV\n",
      "C:\\Users\\nasse\\Documents\\dados receita\\Base_empresas\\emp1\\emp1.csv\n",
      "2\n",
      "C:\\Users\\nasse\\Documents\\dados receita\\Base_empresas\\emp2\n",
      "K3241.K03200Y2.D20312.EMPRECSV\n",
      "C:\\Users\\nasse\\Documents\\dados receita\\Base_empresas\\emp2\\K3241.K03200Y2.D20312.EMPRECSV\n",
      "C:\\Users\\nasse\\Documents\\dados receita\\Base_empresas\\emp2\\emp2.csv\n",
      "3\n",
      "C:\\Users\\nasse\\Documents\\dados receita\\Base_empresas\\emp3\n",
      "K3241.K03200Y3.D20312.EMPRECSV\n",
      "C:\\Users\\nasse\\Documents\\dados receita\\Base_empresas\\emp3\\K3241.K03200Y3.D20312.EMPRECSV\n",
      "C:\\Users\\nasse\\Documents\\dados receita\\Base_empresas\\emp3\\emp3.csv\n",
      "4\n",
      "C:\\Users\\nasse\\Documents\\dados receita\\Base_empresas\\emp4\n",
      "K3241.K03200Y4.D20312.EMPRECSV\n",
      "C:\\Users\\nasse\\Documents\\dados receita\\Base_empresas\\emp4\\K3241.K03200Y4.D20312.EMPRECSV\n",
      "C:\\Users\\nasse\\Documents\\dados receita\\Base_empresas\\emp4\\emp4.csv\n",
      "5\n",
      "C:\\Users\\nasse\\Documents\\dados receita\\Base_empresas\\emp5\n",
      "K3241.K03200Y5.D20312.EMPRECSV\n",
      "C:\\Users\\nasse\\Documents\\dados receita\\Base_empresas\\emp5\\K3241.K03200Y5.D20312.EMPRECSV\n",
      "C:\\Users\\nasse\\Documents\\dados receita\\Base_empresas\\emp5\\emp5.csv\n",
      "6\n",
      "C:\\Users\\nasse\\Documents\\dados receita\\Base_empresas\\emp6\n",
      "K3241.K03200Y6.D20312.EMPRECSV\n",
      "C:\\Users\\nasse\\Documents\\dados receita\\Base_empresas\\emp6\\K3241.K03200Y6.D20312.EMPRECSV\n",
      "C:\\Users\\nasse\\Documents\\dados receita\\Base_empresas\\emp6\\emp6.csv\n",
      "7\n",
      "C:\\Users\\nasse\\Documents\\dados receita\\Base_empresas\\emp7\n",
      "K3241.K03200Y7.D20312.EMPRECSV\n",
      "C:\\Users\\nasse\\Documents\\dados receita\\Base_empresas\\emp7\\K3241.K03200Y7.D20312.EMPRECSV\n",
      "C:\\Users\\nasse\\Documents\\dados receita\\Base_empresas\\emp7\\emp7.csv\n",
      "8\n",
      "C:\\Users\\nasse\\Documents\\dados receita\\Base_empresas\\emp8\n",
      "K3241.K03200Y8.D20312.EMPRECSV\n",
      "C:\\Users\\nasse\\Documents\\dados receita\\Base_empresas\\emp8\\K3241.K03200Y8.D20312.EMPRECSV\n",
      "C:\\Users\\nasse\\Documents\\dados receita\\Base_empresas\\emp8\\emp8.csv\n",
      "9\n",
      "C:\\Users\\nasse\\Documents\\dados receita\\Base_empresas\\emp9\n",
      "K3241.K03200Y9.D20312.EMPRECSV\n",
      "C:\\Users\\nasse\\Documents\\dados receita\\Base_empresas\\emp9\\K3241.K03200Y9.D20312.EMPRECSV\n",
      "C:\\Users\\nasse\\Documents\\dados receita\\Base_empresas\\emp9\\emp9.csv\n"
     ]
    }
   ],
   "source": [
    "#para renomear arquivos\n",
    "import os\n",
    "\n",
    "#caminnho dos diretorios\n",
    "dire0=r'C:\\Users\\nasse\\Documents\\dados receita\\Base_empresas\\emp'\n",
    "\n",
    "\n",
    "for i in range(10):\n",
    "    print(i)\n",
    "    diretorio=dire0+str(i)\n",
    "    print(diretorio)\n",
    "    nome_arquivo=os.listdir(diretorio)[0] #lista os arquivos do diretorio\n",
    "    print(nome_arquivo)\n",
    "    arquivo_antes=str(diretorio)+str('\\\\')+nome_arquivo #caminho e nome do arquivo a ser mudado\n",
    "    print(arquivo_antes)\n",
    "    arquivo_depois=diretorio+str('\\\\')+'emp'+str(i)+'.csv' #caminho e nome do arquivo a ser mudado\n",
    "    print(arquivo_depois)\n",
    "    os.rename(arquivo_antes,arquivo_depois)"
   ]
  },
  {
   "cell_type": "code",
   "execution_count": null,
   "metadata": {},
   "outputs": [],
   "source": []
  }
 ],
 "metadata": {
  "kernelspec": {
   "display_name": "Python 3",
   "language": "python",
   "name": "python3"
  },
  "language_info": {
   "codemirror_mode": {
    "name": "ipython",
    "version": 3
   },
   "file_extension": ".py",
   "mimetype": "text/x-python",
   "name": "python",
   "nbconvert_exporter": "python",
   "pygments_lexer": "ipython3",
   "version": "3.8.5"
  },
  "toc": {
   "base_numbering": 1,
   "nav_menu": {},
   "number_sections": true,
   "sideBar": true,
   "skip_h1_title": false,
   "title_cell": "Table of Contents",
   "title_sidebar": "Contents",
   "toc_cell": false,
   "toc_position": {},
   "toc_section_display": true,
   "toc_window_display": false
  },
  "varInspector": {
   "cols": {
    "lenName": 16,
    "lenType": 16,
    "lenVar": 40
   },
   "kernels_config": {
    "python": {
     "delete_cmd_postfix": "",
     "delete_cmd_prefix": "del ",
     "library": "var_list.py",
     "varRefreshCmd": "print(var_dic_list())"
    },
    "r": {
     "delete_cmd_postfix": ") ",
     "delete_cmd_prefix": "rm(",
     "library": "var_list.r",
     "varRefreshCmd": "cat(var_dic_list()) "
    }
   },
   "types_to_exclude": [
    "module",
    "function",
    "builtin_function_or_method",
    "instance",
    "_Feature"
   ],
   "window_display": false
  }
 },
 "nbformat": 4,
 "nbformat_minor": 4
}
